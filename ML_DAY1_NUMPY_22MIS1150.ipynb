{
  "nbformat": 4,
  "nbformat_minor": 0,
  "metadata": {
    "colab": {
      "provenance": []
    },
    "kernelspec": {
      "name": "python3",
      "display_name": "Python 3"
    },
    "language_info": {
      "name": "python"
    }
  },
  "cells": [
    {
      "cell_type": "code",
      "execution_count": null,
      "metadata": {
        "id": "FQeXDWtIfdMu"
      },
      "outputs": [],
      "source": []
    },
    {
      "cell_type": "markdown",
      "source": [
        "NUMPY DAY1"
      ],
      "metadata": {
        "id": "2E3CKM-1fiFK"
      }
    },
    {
      "cell_type": "code",
      "source": [
        "import numpy as np\n"
      ],
      "metadata": {
        "id": "r36CVImsfmNa"
      },
      "execution_count": null,
      "outputs": []
    },
    {
      "cell_type": "code",
      "source": [
        "ar1=np.array([1,2,3,4,5,6])\n"
      ],
      "metadata": {
        "id": "IJWcJe80fqVy"
      },
      "execution_count": null,
      "outputs": []
    },
    {
      "cell_type": "code",
      "source": [
        "print(ar1)"
      ],
      "metadata": {
        "colab": {
          "base_uri": "https://localhost:8080/"
        },
        "id": "6mWckZt3f28C",
        "outputId": "a597421d-5f0d-4a5c-99fe-978e59bb9e16"
      },
      "execution_count": null,
      "outputs": [
        {
          "output_type": "stream",
          "name": "stdout",
          "text": [
            "[1 2 3 4 5 6]\n"
          ]
        }
      ]
    },
    {
      "cell_type": "code",
      "source": [
        "arr=np.array([1,2,3,4,5,6])\n",
        "print(arr[3:6])"
      ],
      "metadata": {
        "colab": {
          "base_uri": "https://localhost:8080/"
        },
        "id": "k6SD8R87f7YS",
        "outputId": "e26095bf-7918-4ae7-a459-f264be20bd08"
      },
      "execution_count": null,
      "outputs": [
        {
          "output_type": "stream",
          "name": "stdout",
          "text": [
            "[4 5 6]\n"
          ]
        }
      ]
    },
    {
      "cell_type": "code",
      "source": [
        "arr2=np.array([[1,2,3],[4,5,6],[2,5,7]])\n",
        "print(arr2)"
      ],
      "metadata": {
        "colab": {
          "base_uri": "https://localhost:8080/"
        },
        "id": "1yS-iV9agHFC",
        "outputId": "e4141142-38e6-4a6d-e333-c40478129257"
      },
      "execution_count": null,
      "outputs": [
        {
          "output_type": "stream",
          "name": "stdout",
          "text": [
            "[[1 2 3]\n",
            " [4 5 6]\n",
            " [2 5 7]]\n"
          ]
        }
      ]
    },
    {
      "cell_type": "code",
      "source": [
        "print(type(arr2))\n",
        "print(\"DATA-TYPE Ar1\",ar1.dtype)\n",
        "print(\"SHAPE arr2\",arr2.shape)\n",
        "print(\"SHAPE ar1\",ar1.shape)\n",
        "print(\"SIZE ar1\",ar1.size)\n",
        "print(\"SIZE arr2\",arr2.size)\n",
        "print(\"N Dimension arr2\",arr2.ndim)\n",
        "print(\"N Dimensions ar1\",ar1.ndim)\n",
        "print(\"N bytes\",ar1.nbytes)\n",
        "print(\"N bytes\",arr2.nbytes)\n",
        "print(\"Item size\",ar1.itemsize)\n",
        "print(\"Item size\",arr2.itemsize)\n",
        "\n"
      ],
      "metadata": {
        "colab": {
          "base_uri": "https://localhost:8080/"
        },
        "id": "tQbOwV-dgVA7",
        "outputId": "9f327ca0-0755-40ac-dd94-59330825c285"
      },
      "execution_count": null,
      "outputs": [
        {
          "output_type": "stream",
          "name": "stdout",
          "text": [
            "<class 'numpy.ndarray'>\n",
            "DATA-TYPE Ar1 int64\n",
            "SHAPE arr2 (3, 3)\n",
            "SHAPE ar1 (6,)\n",
            "SIZE ar1 6\n",
            "SIZE arr2 9\n",
            "N Dimension arr2 2\n",
            "N Dimensions ar1 1\n",
            "N bytes 48\n",
            "N bytes 72\n",
            "Item size 8\n",
            "Item size 8\n"
          ]
        }
      ]
    },
    {
      "cell_type": "markdown",
      "source": [
        "Special Arrays"
      ],
      "metadata": {
        "id": "_wSdI7ERiKIL"
      }
    },
    {
      "cell_type": "code",
      "source": [
        "arr3=np.zeros((3,3),dtype=int)\n",
        "print(arr3)"
      ],
      "metadata": {
        "colab": {
          "base_uri": "https://localhost:8080/"
        },
        "id": "xDLZELzBiNQL",
        "outputId": "8fa945fc-00fb-450e-f609-3cff436e796b"
      },
      "execution_count": null,
      "outputs": [
        {
          "output_type": "stream",
          "name": "stdout",
          "text": [
            "[[0 0 0]\n",
            " [0 0 0]\n",
            " [0 0 0]]\n"
          ]
        }
      ]
    },
    {
      "cell_type": "code",
      "source": [
        "arr4=np.ones((3,3),dtype=int)\n",
        "print(arr4)"
      ],
      "metadata": {
        "colab": {
          "base_uri": "https://localhost:8080/"
        },
        "id": "MtDElDoSizZT",
        "outputId": "3fe87cb8-04d2-43c1-8cf9-3aa5b8ca7198"
      },
      "execution_count": null,
      "outputs": [
        {
          "output_type": "stream",
          "name": "stdout",
          "text": [
            "[[1 1 1]\n",
            " [1 1 1]\n",
            " [1 1 1]]\n"
          ]
        }
      ]
    },
    {
      "cell_type": "markdown",
      "source": [
        "RANDOM VALUES ARRAY"
      ],
      "metadata": {
        "id": "qym8Lg_Di7Pb"
      }
    },
    {
      "cell_type": "markdown",
      "source": [],
      "metadata": {
        "id": "e5iqH9t_i2lz"
      }
    },
    {
      "cell_type": "code",
      "source": [
        "arr5=np.random.random((3,3))\n",
        "print(arr5)"
      ],
      "metadata": {
        "colab": {
          "base_uri": "https://localhost:8080/"
        },
        "id": "Wa6ZJculjJRb",
        "outputId": "f765650e-39fd-4c24-abbd-91330637b856"
      },
      "execution_count": null,
      "outputs": [
        {
          "output_type": "stream",
          "name": "stdout",
          "text": [
            "[[0.85449306 0.03360791 0.07777077]\n",
            " [0.06588052 0.00535943 0.19872785]\n",
            " [0.25957521 0.87003862 0.512522  ]]\n"
          ]
        }
      ]
    },
    {
      "cell_type": "code",
      "source": [
        "arr6=np.random.randint(1,10,(3,3))\n",
        "print(arr6)"
      ],
      "metadata": {
        "colab": {
          "base_uri": "https://localhost:8080/"
        },
        "id": "n3R2UihqjbGT",
        "outputId": "f7ad7e5d-3784-478d-ad53-882fda3fc471"
      },
      "execution_count": null,
      "outputs": [
        {
          "output_type": "stream",
          "name": "stdout",
          "text": [
            "[[3 6 8]\n",
            " [5 2 5]\n",
            " [3 8 9]]\n"
          ]
        }
      ]
    },
    {
      "cell_type": "markdown",
      "source": [
        "IDENTITY MATRIX"
      ],
      "metadata": {
        "id": "fhvf_WFnjlBz"
      }
    },
    {
      "cell_type": "code",
      "source": [
        "arr7=np.eye(3,3)\n",
        "print(arr7)\n"
      ],
      "metadata": {
        "colab": {
          "base_uri": "https://localhost:8080/"
        },
        "id": "q5H2Z_Cdjm0z",
        "outputId": "daf40e79-342f-4b73-b562-eefd26d72c6b"
      },
      "execution_count": null,
      "outputs": [
        {
          "output_type": "stream",
          "name": "stdout",
          "text": [
            "[[1. 0. 0.]\n",
            " [0. 1. 0.]\n",
            " [0. 0. 1.]]\n"
          ]
        }
      ]
    },
    {
      "cell_type": "markdown",
      "source": [
        "Creating Arrays WIth Linspace and Arrange"
      ],
      "metadata": {
        "id": "jrkKt2hCj1wz"
      }
    },
    {
      "cell_type": "code",
      "source": [
        "arr8=np.arange(1,10,2)\n",
        "print(arr8)"
      ],
      "metadata": {
        "colab": {
          "base_uri": "https://localhost:8080/"
        },
        "id": "V-qFdDBYj_Oy",
        "outputId": "598d72e6-9480-46e8-a152-be9a24d07f22"
      },
      "execution_count": null,
      "outputs": [
        {
          "output_type": "stream",
          "name": "stdout",
          "text": [
            "[1 3 5 7 9]\n"
          ]
        }
      ]
    },
    {
      "cell_type": "code",
      "source": [
        "arr9=np.linspace(1,10,10)\n",
        "print(arr9)"
      ],
      "metadata": {
        "colab": {
          "base_uri": "https://localhost:8080/"
        },
        "id": "pzyw3XlTkI-j",
        "outputId": "5abaa4c9-8b41-4c9e-b762-a5d387ea48d1"
      },
      "execution_count": null,
      "outputs": [
        {
          "output_type": "stream",
          "name": "stdout",
          "text": [
            "[ 1.  2.  3.  4.  5.  6.  7.  8.  9. 10.]\n"
          ]
        }
      ]
    },
    {
      "cell_type": "markdown",
      "source": [
        "SLICING"
      ],
      "metadata": {
        "id": "GS60cchtkn0z"
      }
    },
    {
      "cell_type": "code",
      "source": [
        "arr10=np.array([[1,2,3],[4,5,6],[7,8,9],[27,83,973]])\n",
        "print(arr10)\n",
        "print(\"\\n\")\n",
        "print(arr10[1:])\n",
        "print(\"\\n\")\n",
        "print(arr10[:3])\n",
        "print(\"\\n\")\n",
        "print(arr10[:,:])\n",
        "print(\"\\n\")\n",
        "print(arr10[1:3,1:5])\n",
        "print(\"\\n\")\n",
        "print(\"strides:\",arr10[0:2,1:3])\n"
      ],
      "metadata": {
        "colab": {
          "base_uri": "https://localhost:8080/"
        },
        "collapsed": true,
        "id": "ThBb-YL5kpJT",
        "outputId": "608d3f32-cd98-4abf-a3ac-2bb4430a0b52"
      },
      "execution_count": null,
      "outputs": [
        {
          "output_type": "stream",
          "name": "stdout",
          "text": [
            "[[  1   2   3]\n",
            " [  4   5   6]\n",
            " [  7   8   9]\n",
            " [ 27  83 973]]\n",
            "\n",
            "\n",
            "[[  4   5   6]\n",
            " [  7   8   9]\n",
            " [ 27  83 973]]\n",
            "\n",
            "\n",
            "[[1 2 3]\n",
            " [4 5 6]\n",
            " [7 8 9]]\n",
            "\n",
            "\n",
            "[[  1   2   3]\n",
            " [  4   5   6]\n",
            " [  7   8   9]\n",
            " [ 27  83 973]]\n",
            "\n",
            "\n",
            "[[5 6]\n",
            " [8 9]]\n",
            "\n",
            "\n",
            "strides: [[2 3]\n",
            " [5 6]]\n"
          ]
        }
      ]
    },
    {
      "cell_type": "code",
      "source": [],
      "metadata": {
        "id": "7iY-R6CcmL40"
      },
      "execution_count": null,
      "outputs": []
    },
    {
      "cell_type": "markdown",
      "source": [
        "Masking"
      ],
      "metadata": {
        "id": "EYe8dNUqmMBz"
      }
    },
    {
      "cell_type": "code",
      "source": [
        "arr11=np.array([1,2,3,4,5,6,7,8,9])\n",
        "mask=np.array([1,0,1,1,1,0,])\n",
        "print(arr11[mask])\n"
      ],
      "metadata": {
        "colab": {
          "base_uri": "https://localhost:8080/"
        },
        "id": "vdi5evyymNcM",
        "outputId": "4401933f-1e1f-4194-a0aa-4e9fd03334e8"
      },
      "execution_count": null,
      "outputs": [
        {
          "output_type": "stream",
          "name": "stdout",
          "text": [
            "[2 1 2 2 2 1]\n"
          ]
        }
      ]
    }
  ]
}